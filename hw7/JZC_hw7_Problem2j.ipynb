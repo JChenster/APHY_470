{
 "cells": [
  {
   "cell_type": "markdown",
   "metadata": {},
   "source": [
    "### (j)"
   ]
  },
  {
   "cell_type": "code",
   "execution_count": 6,
   "metadata": {},
   "outputs": [],
   "source": [
    "import numpy\n",
    "import math\n",
    "import matplotlib.pyplot as plt"
   ]
  },
  {
   "cell_type": "code",
   "execution_count": 7,
   "metadata": {},
   "outputs": [],
   "source": [
    "d = 3\n",
    "\n",
    "def nCr(n,r):\n",
    "    f = math.factorial\n",
    "    return f(n) / f(r) / f(n-r)\n",
    "\n",
    "def calculate_P_exact(m):\n",
    "    return (nCr(2 *m , m) / (2 ** (2 * m))) ** d\n",
    "\n",
    "def estimate_n(R):\n",
    "    n = 0\n",
    "    for m in range(1, R+1):\n",
    "        n += calculate_P_exact(m)\n",
    "\n",
    "    inf_sum = 0\n",
    "    m = R+1\n",
    "    while True:\n",
    "        delta = 1 / math.sqrt(m ** 3)\n",
    "        if delta < 10 ** -9:\n",
    "            break\n",
    "        inf_sum += delta\n",
    "        m += 1\n",
    "    n += (inf_sum / math.sqrt(math.pi ** 3))\n",
    "    return n"
   ]
  },
  {
   "cell_type": "code",
   "execution_count": 10,
   "metadata": {},
   "outputs": [
    {
     "name": "stdout",
     "output_type": "stream",
     "text": [
      "R        N       \n",
      "5        0.40    \n",
      "10       0.39    \n",
      "15       0.39    \n",
      "20       0.39    \n",
      "25       0.39    \n",
      "30       0.39    \n",
      "35       0.39    \n",
      "40       0.39    \n",
      "45       0.39    \n",
      "50       0.39    \n",
      "55       0.39    \n",
      "60       0.39    \n",
      "65       0.39    \n",
      "70       0.39    \n",
      "75       0.39    \n",
      "80       0.39    \n",
      "85       0.39    \n",
      "90       0.39    \n",
      "95       0.39    \n"
     ]
    }
   ],
   "source": [
    "R_list = range(5, 100, 5)\n",
    "n_list = []\n",
    "\n",
    "print(\"{:<8} {:<8}\".format(\"R\", \"N\"))\n",
    "\n",
    "for R in R_list:\n",
    "    n_list.append(estimate_n(R))\n",
    "    print(\"{:<8} {:<8.2f}\".format(R, n_list[-1]))"
   ]
  },
  {
   "cell_type": "code",
   "execution_count": 11,
   "metadata": {},
   "outputs": [
    {
     "data": {
      "text/plain": [
       "Text(0.5, 1.0, 'Estimate of $\\\\langle n \\\\rangle$ vs R')"
      ]
     },
     "execution_count": 11,
     "metadata": {},
     "output_type": "execute_result"
    },
    {
     "data": {
      "image/png": "[encoded data removed]",
      "text/plain": [
       "<Figure size 432x288 with 1 Axes>"
      ]
     },
     "metadata": {
      "needs_background": "light"
     },
     "output_type": "display_data"
    }
   ],
   "source": [
    "\n",
    "plt.plot(R_list, n_list, color = \"green\", marker = \".\", ms = 10, ls = \"--\")\n",
    "plt.xlabel(\"R\")\n",
    "plt.ylabel(r\"$\\langle n \\rangle$\")\n",
    "plt.title(r\"Estimate of $\\langle n \\rangle$ vs R\")"
   ]
  },
  {
   "cell_type": "markdown",
   "metadata": {},
   "source": [
    "As we can see numerically $\\langle n \\rangle = 0.39$ and then from there we can use the formula from part (e) that $\\langle n \\rangle = \\frac{r_\\infty}{1 - r_\\infty}$ and plug in $\\langle n \\rangle = 0.39$ to then find that $r = \\frac{1.39}{1.39} = 0.28$ as desired."
   ]
  }
 ],
 "metadata": {
  "kernelspec": {
   "display_name": "hw1",
   "language": "python",
   "name": "hw1"
  },
  "language_info": {
   "codemirror_mode": {
    "name": "ipython",
    "version": 3
   },
   "file_extension": ".py",
   "mimetype": "text/x-python",
   "name": "python",
   "nbconvert_exporter": "python",
   "pygments_lexer": "ipython3",
   "version": "3.7.0"
  },
  "orig_nbformat": 4
 },
 "nbformat": 4,
 "nbformat_minor": 2
}
