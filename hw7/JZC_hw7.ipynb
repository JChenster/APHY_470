{
 "cells": [
  {
   "cell_type": "markdown",
   "metadata": {},
   "source": [
    "## Jeffrey Chen APHY 470 PSET 7\n",
    "## Problem 1"
   ]
  },
  {
   "cell_type": "code",
   "execution_count": 20,
   "metadata": {},
   "outputs": [],
   "source": [
    "import matplotlib.pyplot as plt\n",
    "import numpy\n",
    "import random"
   ]
  },
  {
   "cell_type": "markdown",
   "metadata": {},
   "source": [
    "### (a)"
   ]
  },
  {
   "cell_type": "code",
   "execution_count": 21,
   "metadata": {},
   "outputs": [],
   "source": [
    "def percolation_grid(N, p):\n",
    "    '''\n",
    "    Creates a NxN grid where each vertex is on with probability p\n",
    "    Returns the grid\n",
    "    '''\n",
    "    grid = [[-1] * N for _ in range(N)]\n",
    "    for i in range(N):\n",
    "        for j in range(N):\n",
    "            if random.uniform(0, 1) < p:\n",
    "                grid[i][j] = 1\n",
    "            else:\n",
    "                grid[i][j] = 0\n",
    "    return grid\n",
    "\n",
    "intersite_vecs = [[0, -1], [0, 1], [-1, 0], [1, 0], [-1, 1], [1, -1], [-1, -1], [1, 1]]\n",
    "\n",
    "def add_vecs(a, b):\n",
    "    return [a[0] + b[0], a[1] + b[1]]\n",
    "\n",
    "def is_sideways_perc(grid):\n",
    "    # Tries going left to right\n",
    "    N = len(grid[0])\n",
    "    visited = [[False] * N for _ in range(N)]\n",
    "    # Conduct BFS\n",
    "    queue = []\n",
    "    for i in range(N):\n",
    "        if grid[i][0] == 1:\n",
    "            queue.append([i, 0])\n",
    "            visited[i][0] = True\n",
    "\n",
    "    while queue:\n",
    "        curr_vec = queue.pop(0)\n",
    "        if curr_vec[1] == N - 1:\n",
    "            return True\n",
    "        for v in intersite_vecs:\n",
    "            next_vec = add_vecs(curr_vec, v)\n",
    "            # Checks that the next vec is valid and hasn't been visited\n",
    "            if 0 <= next_vec[0] and next_vec[0] < N and 0 <= next_vec[1] and next_vec[1] < N and not visited[next_vec[0]][next_vec[1]] and grid[next_vec[0]][next_vec[1]] == 1:\n",
    "                visited[next_vec[0]][next_vec[1]] = True\n",
    "                queue.append(next_vec)\n",
    "    return False\n",
    "\n",
    "def is_vertical_perc(grid):\n",
    "    # Tries going top to bottom\n",
    "    N = len(grid[0])\n",
    "    visited = [[False] * N for _ in range(N)]\n",
    "    # Conduct BFS\n",
    "    queue = []\n",
    "    for j in range(N):\n",
    "        if grid[0][j] == 1:\n",
    "            queue.append([0, j])\n",
    "            visited[0][j] = True\n",
    "\n",
    "    while queue:\n",
    "        curr_vec = queue.pop(0)\n",
    "        if curr_vec[0] == N - 1:\n",
    "            return True\n",
    "        for v in intersite_vecs:\n",
    "            next_vec = add_vecs(curr_vec, v)\n",
    "            # Checks that the next vec is valid and hasn't been visited\n",
    "            if 0 <= next_vec[0] and next_vec[0] < N and 0 <= next_vec[1] and next_vec[1] < N and not visited[next_vec[0]][next_vec[1]] and grid[next_vec[0]][next_vec[1]] == 1:\n",
    "                visited[next_vec[0]][next_vec[1]] = True\n",
    "                queue.append(next_vec)\n",
    "    return False"
   ]
  },
  {
   "cell_type": "code",
   "execution_count": 36,
   "metadata": {},
   "outputs": [
    {
     "name": "stdout",
     "output_type": "stream",
     "text": [
      "p        Percolation probability\n",
      "0.00     0.0                     \n",
      "0.10     0.0                     \n",
      "0.20     0.0                     \n",
      "0.30     0.0                     \n",
      "0.35     0.15                    \n",
      "0.36     0.25                    \n",
      "0.37     0.35                    \n",
      "0.38     0.39                    \n",
      "0.39     0.38                    \n",
      "0.40     0.5                     \n",
      "0.41     0.71                    \n",
      "0.42     0.79                    \n",
      "0.43     0.81                    \n",
      "0.44     0.9                     \n",
      "0.45     0.93                    \n",
      "0.50     0.99                    \n",
      "0.60     1.0                     \n",
      "0.70     1.0                     \n",
      "0.80     1.0                     \n",
      "0.90     1.0                     \n",
      "1.00     1.0                     \n"
     ]
    },
    {
     "data": {
      "text/plain": [
       "Text(0.5, 1.0, 'Percolation probability vs p')"
      ]
     },
     "execution_count": 36,
     "metadata": {},
     "output_type": "execute_result"
    },
    {
     "data": {
      "image/png": "[encoded data removed]",
      "text/plain": [
       "<Figure size 432x288 with 1 Axes>"
      ]
     },
     "metadata": {
      "needs_background": "light"
     },
     "output_type": "display_data"
    }
   ],
   "source": [
    "num_samples = 100\n",
    "probs = numpy.append(numpy.append(numpy.linspace(0, .3, 4), numpy.linspace(.35, .45, 11)), numpy.linspace(.5, 1, 6))\n",
    "N = 25\n",
    "\n",
    "prob_percs = []\n",
    "print(\"{:<8} {:<8}\".format(\"p\", \"Percolation probability\"))\n",
    "for p in probs:\n",
    "    perc_success = 0\n",
    "    for iter in range(num_samples):\n",
    "        grid = percolation_grid(N, p)\n",
    "        if is_sideways_perc(grid) or is_vertical_perc(grid):\n",
    "            perc_success += 1\n",
    "    prob_perc = perc_success / num_samples\n",
    "    prob_percs.append(prob_perc)\n",
    "    print(\"{:<8.2f} {:<24}\".format(p, prob_perc))\n",
    "\n",
    "plt.plot(probs, prob_percs, ls = \"--\", color = \"blue\", marker = \".\", ms = 10)\n",
    "plt.xlabel(\"p\")\n",
    "plt.ylabel(\"Percolation probability\")\n",
    "plt.title(\"Percolation probability vs p\")\n"
   ]
  },
  {
   "cell_type": "markdown",
   "metadata": {},
   "source": [
    "It can be seen by running my percolation simulation for multiple different values of $p$ that the point at which the probability of percolation sharply increases is $p_c = 0.40$"
   ]
  },
  {
   "cell_type": "markdown",
   "metadata": {},
   "source": [
    "### (b)\n",
    "The square lattice is dual to itself in that if we create bonds between the centers of the original square lattice, we end up creating another square lattice. The percolation threshold is the point after which percolation occurs with very high probability, leading percolation in the dual to likely not occur. Let the percolation capacity of the original square lattice be $p_c(G)$ and the percolation capacity of the dual lattice be $p_c(G)$. We have something like $p_c(G) \\approx 1 - p_c(G')$. Since the original lattice and dual lattice have the same structure, we have that $p_c(G) = p_c(G')$. Putting this together, we obtain $p_c(G) = \\frac{1}{2}$ as desired.\n",
    "\n",
    "### (c)\n",
    "Let $p_c(H)$ be the percolation threshold of our hexagonal lattice and $p_c(T)$ be the percolation threshold of our triangular lattice. We can notice by observation that the triangular lattice is more \"efficient\" at percolation and is able to go between opposite sides in about half as many bonds as would be required by our hexagonal lattice. Thus, the triangular lattice should require a probability roughly half as high as that of the hexagonal lattice to have a high probability of percolation. Thus, $p_c(T) \\approx \\frac{1}{2} p_c(H)$."
   ]
  }
 ],
 "metadata": {
  "interpreter": {
   "hash": "aee8b7b246df8f9039afb4144a1f6fd8d2ca17a180786b69acc140d282b71a49"
  },
  "kernelspec": {
   "display_name": "Python 3.7.0 64-bit",
   "language": "python",
   "name": "python3"
  },
  "language_info": {
   "codemirror_mode": {
    "name": "ipython",
    "version": 3
   },
   "file_extension": ".py",
   "mimetype": "text/x-python",
   "name": "python",
   "nbconvert_exporter": "python",
   "pygments_lexer": "ipython3",
   "version": "3.7.0"
  },
  "orig_nbformat": 4
 },
 "nbformat": 4,
 "nbformat_minor": 2
}
