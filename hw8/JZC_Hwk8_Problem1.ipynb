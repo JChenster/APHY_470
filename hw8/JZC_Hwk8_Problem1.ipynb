{
 "cells": [
  {
   "cell_type": "markdown",
   "metadata": {},
   "source": [
    "## Jeffrey Chen APHY 470 PSET 8\n",
    "## Problem 1\n",
    "### (a)"
   ]
  },
  {
   "cell_type": "code",
   "execution_count": 119,
   "metadata": {},
   "outputs": [],
   "source": [
    "import math\n",
    "import matplotlib.pyplot as plt\n",
    "import numpy\n",
    "import random\n",
    "from scipy.optimize import curve_fit"
   ]
  },
  {
   "cell_type": "code",
   "execution_count": 120,
   "metadata": {},
   "outputs": [],
   "source": [
    "def add_vec(a, b):\n",
    "    return [a[i] + b[i] for i in range(len(a))]\n",
    "\n",
    "def norm_squared(vec):\n",
    "    ret = 0\n",
    "    for comp in vec:\n",
    "        ret += (comp ** 2)\n",
    "    return ret\n",
    "\n",
    "def saw(N):\n",
    "    '''\n",
    "    Use simple sampling until we obtain a successful self-avoiding walk\n",
    "    '''\n",
    "    pos = [0, 0, 0]\n",
    "\n",
    "    # We utilize a hashmap to check in O(1) time whether or not a site has already been visited\n",
    "    visited = {}\n",
    "    visited[tuple(pos)] = True\n",
    "    i = 0\n",
    "\n",
    "    while i < N:\n",
    "        delta = [0, 0, 0]\n",
    "        delta[random.randint(0, 2)] = random.choice([-1, 1])\n",
    "\n",
    "        pos = add_vec(pos, delta)\n",
    "        # The new position has already been visited so we disband this random walk\n",
    "        if visited.get(tuple(pos)) is not None:\n",
    "            # Reset\n",
    "            visited = {}\n",
    "            i = -1\n",
    "            pos = [0, 0, 0]\n",
    "        visited[tuple(pos)] = True\n",
    "        i += 1\n",
    "    return norm_squared(pos)\n",
    "\n"
   ]
  },
  {
   "cell_type": "markdown",
   "metadata": {},
   "source": [
    "### (b)"
   ]
  },
  {
   "cell_type": "code",
   "execution_count": 121,
   "metadata": {},
   "outputs": [
    {
     "name": "stdout",
     "output_type": "stream",
     "text": [
      "Samples  Estimated Mean           St Dev of Estimated Mean Percent Uncertainty     \n",
      "20.0     26.300000                3.328584                 12.66                   \n",
      "40.0     41.150000                4.278682                 10.40                   \n",
      "60.0     38.800000                3.473613                 8.95                    \n",
      "80.0     34.950000                2.432370                 6.96                    \n",
      "100.0    40.360000                2.691157                 6.67                    \n",
      "120.0    40.100000                2.202475                 5.49                    \n",
      "140.0    37.157143                1.884874                 5.07                    \n",
      "160.0    42.250000                2.189796                 5.18                    \n",
      "180.0    37.166667                1.653383                 4.45                    \n",
      "200.0    39.350000                1.920633                 4.88                    \n"
     ]
    }
   ],
   "source": [
    "N = 20\n",
    "\n",
    "print(\"{:<8} {:<24} {:<24} {:<24}\".format(\"Samples\", \"Estimated Mean\", \"St Dev of Estimated Mean\", \"Percent Uncertainty\"))\n",
    "\n",
    "for num_samples in numpy.linspace(20, 200, 10):\n",
    "    distances_squared = []\n",
    "    for _ in range(int(num_samples)):\n",
    "        distances_squared.append(saw(N))\n",
    "    \n",
    "    est_mean = sum(distances_squared) / num_samples\n",
    "    est_var = 0\n",
    "    for d in distances_squared:\n",
    "        est_var += ((d - est_mean) ** 2)\n",
    "    est_var /= (num_samples - 1)\n",
    "    est_sigma = math.sqrt(est_var)\n",
    "    sigma = est_sigma / math.sqrt(num_samples)\n",
    "    relative_uncertainty = sigma / est_mean * 100\n",
    "\n",
    "    print(\"{:<8} {:<24.6f} {:<24.6f} {:<24.2f}\".format(num_samples, est_mean, sigma, relative_uncertainty))\n"
   ]
  },
  {
   "cell_type": "markdown",
   "metadata": {},
   "source": [
    "I will chose $N_{samp} = 200$ to obtain roughly 5% relative uncertainty for $\\langle |R|^2 \\rangle$\n",
    "\n",
    "### (c)"
   ]
  },
  {
   "cell_type": "code",
   "execution_count": 122,
   "metadata": {},
   "outputs": [
    {
     "name": "stdout",
     "output_type": "stream",
     "text": [
      "N        Estimated Mean           St Dev of Estimated Mean Percent Uncertainty     \n",
      "40       88.290000                4.105723                 4.65                    \n",
      "30       60.970000                3.015270                 4.95                    \n",
      "20       38.030000                1.739316                 4.57                    \n",
      "10       17.570000                0.721511                 4.11                    \n",
      "5        7.230000                 0.297452                 4.11                    \n"
     ]
    }
   ],
   "source": [
    "num_samples = 200\n",
    "N_vals = [40, 30, 20, 10, 5]\n",
    "\n",
    "print(\"{:<8} {:<24} {:<24} {:<24}\".format(\"N\", \"Estimated Mean\", \"St Dev of Estimated Mean\", \"Percent Uncertainty\"))\n",
    "means = []\n",
    "sigmas = []\n",
    "for n in N_vals:\n",
    "    distances_squared = [saw(n) for _ in range(num_samples)]\n",
    "\n",
    "    est_mean = sum(distances_squared) / num_samples\n",
    "    means.append(est_mean)\n",
    "    est_var = 0\n",
    "    for d in distances_squared:\n",
    "        est_var += ((d - est_mean) ** 2)\n",
    "    est_var /= (num_samples - 1)\n",
    "    est_sigma = math.sqrt(est_var)\n",
    "    sigma = est_sigma / math.sqrt(num_samples)\n",
    "    sigmas.append(sigma)\n",
    "    relative_uncertainty = sigma / est_mean * 100\n",
    "\n",
    "    print(\"{:<8} {:<24.6f} {:<24.6f} {:<24.2f}\".format(n, est_mean, sigma, relative_uncertainty))"
   ]
  },
  {
   "cell_type": "code",
   "execution_count": 123,
   "metadata": {},
   "outputs": [
    {
     "name": "stdout",
     "output_type": "stream",
     "text": [
      "v = 0.5941985489862434\n"
     ]
    },
    {
     "data": {
      "image/png": "[encoded data removed]",
      "text/plain": [
       "<Figure size 432x288 with 1 Axes>"
      ]
     },
     "metadata": {
      "needs_background": "light"
     },
     "output_type": "display_data"
    }
   ],
   "source": [
    "log_means = list(map(math.log, means))\n",
    "log_N_vals = list(map(math.log, N_vals))\n",
    "log_sigmas = list(map(lambda x: math.log(x + 1), sigmas))\n",
    "\n",
    "def linear_fit(x, m, b):\n",
    "    return m * x + b\n",
    "\n",
    "opt, _ = curve_fit(linear_fit, log_N_vals, log_means)\n",
    "m, b = opt\n",
    "cts_x = numpy.linspace(math.log(5), math.log(40), 100)\n",
    "fit_y = [linear_fit(x, m, b) for x in cts_x]\n",
    "\n",
    "plt.plot(log_N_vals, log_means, marker = \".\", ls = \"--\", ms = 10, color = \"blue\", label = \"Data\")\n",
    "plt.plot(cts_x, fit_y, color = \"green\", label = \"Line of Best Fit\")\n",
    "plt.errorbar(log_N_vals, log_means, yerr = log_sigmas, fmt = \"none\", color = \"red\", label = \"Log St Dev of Estimated Mean\")\n",
    "plt.xlabel(\"ln(N)\")\n",
    "plt.ylabel(r\"$\\ln(\\langle |R|^2 \\rangle)$\")\n",
    "plt.title(r\"$\\ln(\\langle |R|^2 \\rangle)$ vs $\\ln(N)$ for $N_{samp} = 200$\")\n",
    "plt.legend()\n",
    "print(f\"v = {m/2}\")"
   ]
  },
  {
   "cell_type": "markdown",
   "metadata": {},
   "source": [
    "My linear regression returns $v \\approx 0.594$ which is quite close compared to the literature value of $0.589$ as desired."
   ]
  },
  {
   "cell_type": "markdown",
   "metadata": {},
   "source": [
    "### (d)"
   ]
  },
  {
   "cell_type": "code",
   "execution_count": 124,
   "metadata": {},
   "outputs": [],
   "source": [
    "def unconstrained_walk(N):\n",
    "    pos = [0, 0, 0]\n",
    "    i = 0\n",
    "    while i < N:\n",
    "        delta = [0, 0, 0]\n",
    "        delta[random.randint(0, 2)] = random.choice([-1, 1])\n",
    "        pos = add_vec(pos, delta)\n",
    "        i += 1\n",
    "    return norm_squared(pos)\n",
    "\n",
    "num_trials = 200\n",
    "v_list = []\n",
    "\n",
    "for trial in range(num_trials):\n",
    "    means = []\n",
    "    sigmas = []\n",
    "    for n in N_vals:\n",
    "        distances_squared = [unconstrained_walk(n) for _ in range(num_samples)]\n",
    "        est_mean = sum(distances_squared) / num_samples\n",
    "        means.append(est_mean)\n",
    "    \n",
    "    log_means = list(map(math.log, means))\n",
    "    opt, _ = curve_fit(linear_fit, log_N_vals, log_means)\n",
    "    m, b = opt\n",
    "    v = m / 2\n",
    "    v_list.append(v)"
   ]
  },
  {
   "cell_type": "code",
   "execution_count": 125,
   "metadata": {},
   "outputs": [
    {
     "name": "stdout",
     "output_type": "stream",
     "text": [
      "Standard Deviation of Estimated v: 0.0012093914410964632\n"
     ]
    }
   ],
   "source": [
    "v_bar = sum(v_list) / num_trials\n",
    "est_var = 0\n",
    "for v in v_list:\n",
    "    est_var += ((v - v_bar) ** 2)\n",
    "est_var /= (num_trials - 1)\n",
    "est_sigma = math.sqrt(est_var)\n",
    "sigma = est_sigma / math.sqrt(num_trials)\n",
    "print(f\"Standard Deviation of Estimated v: {sigma}\")"
   ]
  },
  {
   "cell_type": "markdown",
   "metadata": {},
   "source": [
    "I obtain an error bar for $v$ by following the problem set's third suggestion. I utilize an unconstrained walk to estimate how much $v$ fluctuates since it runs a lot faster than a self-avoiding walk. I run 200 trials where I calculate $v$ by running a linear regression to obtain a value of $v$ after obtaining 200 samples of the unconstrained walk for each value of N (5, 10, 20, 30, 40) we tried in part (c). I calculate that the standard deviation of the estimated $v$ from 200 trials is $\\approx 0.0012$ which is quite good. I do not physically plot this error because it is a very small number so it would difficult to see on the plot but this means that our linear regression is quite accurate in estimating $v$."
   ]
  }
 ],
 "metadata": {
  "kernelspec": {
   "display_name": "hw1",
   "language": "python",
   "name": "hw1"
  },
  "language_info": {
   "codemirror_mode": {
    "name": "ipython",
    "version": 3
   },
   "file_extension": ".py",
   "mimetype": "text/x-python",
   "name": "python",
   "nbconvert_exporter": "python",
   "pygments_lexer": "ipython3",
   "version": "3.7.0"
  },
  "orig_nbformat": 4
 },
 "nbformat": 4,
 "nbformat_minor": 2
}
